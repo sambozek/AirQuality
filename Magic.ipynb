{
 "cells": [
  {
   "cell_type": "markdown",
   "metadata": {},
   "source": [
    "# Magic\n",
    "## Or How I Discovered I Could Save Seconds\n",
    "\n",
    "A frustrating feature of the jupyter notebooks has been that every time they're opened the magic functions have to be called. Having only simple needs, if only two of them could open up when I initiated a python notebook, that would be great. Fortunately within jupyter it's really easy to save those few seconds a day. Through throwing in a simple `.ipy` file to the startup folder of ipython any time a new jupyter notebook is made no hoops need to be jumped through. \n",
    "\n",
    "Although this has only been done on linux and mac systems personally, it could certainly be done on windows as well. The process is rather neat and clean. It starts with creating a .ipy file.\n"
   ]
  }
 ],
 "metadata": {
  "kernelspec": {
   "display_name": "Python [default]",
   "language": "python",
   "name": "python3"
  },
  "language_info": {
   "codemirror_mode": {
    "name": "ipython",
    "version": 3
   },
   "file_extension": ".py",
   "mimetype": "text/x-python",
   "name": "python",
   "nbconvert_exporter": "python",
   "pygments_lexer": "ipython3",
   "version": "3.5.2"
  }
 },
 "nbformat": 4,
 "nbformat_minor": 0
}
